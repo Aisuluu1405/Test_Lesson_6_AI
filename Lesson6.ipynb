{
  "nbformat": 4,
  "nbformat_minor": 0,
  "metadata": {
    "colab": {
      "name": "Lesson6.ipynb",
      "provenance": [],
      "collapsed_sections": [],
      "authorship_tag": "ABX9TyP777FfPyE/E4aVccshV3v4",
      "include_colab_link": true
    },
    "kernelspec": {
      "name": "python3",
      "display_name": "Python 3"
    },
    "accelerator": "GPU",
    "widgets": {
      "application/vnd.jupyter.widget-state+json": {
        "4eb13d0f6af344f185b8a75032162e12": {
          "model_module": "@jupyter-widgets/controls",
          "model_name": "HBoxModel",
          "state": {
            "_view_name": "HBoxView",
            "_dom_classes": [],
            "_model_name": "HBoxModel",
            "_view_module": "@jupyter-widgets/controls",
            "_model_module_version": "1.5.0",
            "_view_count": null,
            "_view_module_version": "1.5.0",
            "box_style": "",
            "layout": "IPY_MODEL_1d1c2c4ea6264c838e9ed41612f815fe",
            "_model_module": "@jupyter-widgets/controls",
            "children": [
              "IPY_MODEL_7972b145c0dc447292146332d497c96b",
              "IPY_MODEL_3447a425a8e144f785104ba930c630f9"
            ]
          }
        },
        "1d1c2c4ea6264c838e9ed41612f815fe": {
          "model_module": "@jupyter-widgets/base",
          "model_name": "LayoutModel",
          "state": {
            "_view_name": "LayoutView",
            "grid_template_rows": null,
            "right": null,
            "justify_content": null,
            "_view_module": "@jupyter-widgets/base",
            "overflow": null,
            "_model_module_version": "1.2.0",
            "_view_count": null,
            "flex_flow": null,
            "width": null,
            "min_width": null,
            "border": null,
            "align_items": null,
            "bottom": null,
            "_model_module": "@jupyter-widgets/base",
            "top": null,
            "grid_column": null,
            "overflow_y": null,
            "overflow_x": null,
            "grid_auto_flow": null,
            "grid_area": null,
            "grid_template_columns": null,
            "flex": null,
            "_model_name": "LayoutModel",
            "justify_items": null,
            "grid_row": null,
            "max_height": null,
            "align_content": null,
            "visibility": null,
            "align_self": null,
            "height": null,
            "min_height": null,
            "padding": null,
            "grid_auto_rows": null,
            "grid_gap": null,
            "max_width": null,
            "order": null,
            "_view_module_version": "1.2.0",
            "grid_template_areas": null,
            "object_position": null,
            "object_fit": null,
            "grid_auto_columns": null,
            "margin": null,
            "display": null,
            "left": null
          }
        },
        "7972b145c0dc447292146332d497c96b": {
          "model_module": "@jupyter-widgets/controls",
          "model_name": "FloatProgressModel",
          "state": {
            "_view_name": "ProgressView",
            "style": "IPY_MODEL_e7d8ca067cf9451c8b56f67cc01cae73",
            "_dom_classes": [],
            "description": "",
            "_model_name": "FloatProgressModel",
            "bar_style": "info",
            "max": 1,
            "_view_module": "@jupyter-widgets/controls",
            "_model_module_version": "1.5.0",
            "value": 1,
            "_view_count": null,
            "_view_module_version": "1.5.0",
            "orientation": "horizontal",
            "min": 0,
            "description_tooltip": null,
            "_model_module": "@jupyter-widgets/controls",
            "layout": "IPY_MODEL_765c98b99d56487b9066b00f56f45d66"
          }
        },
        "3447a425a8e144f785104ba930c630f9": {
          "model_module": "@jupyter-widgets/controls",
          "model_name": "HTMLModel",
          "state": {
            "_view_name": "HTMLView",
            "style": "IPY_MODEL_5aba3004a1fe4cbc82b24e400efefd29",
            "_dom_classes": [],
            "description": "",
            "_model_name": "HTMLModel",
            "placeholder": "​",
            "_view_module": "@jupyter-widgets/controls",
            "_model_module_version": "1.5.0",
            "value": " 170500096/? [00:20&lt;00:00, 54428417.34it/s]",
            "_view_count": null,
            "_view_module_version": "1.5.0",
            "description_tooltip": null,
            "_model_module": "@jupyter-widgets/controls",
            "layout": "IPY_MODEL_8fb5b6be2cd54f6dab5be84ce9f20893"
          }
        },
        "e7d8ca067cf9451c8b56f67cc01cae73": {
          "model_module": "@jupyter-widgets/controls",
          "model_name": "ProgressStyleModel",
          "state": {
            "_view_name": "StyleView",
            "_model_name": "ProgressStyleModel",
            "description_width": "initial",
            "_view_module": "@jupyter-widgets/base",
            "_model_module_version": "1.5.0",
            "_view_count": null,
            "_view_module_version": "1.2.0",
            "bar_color": null,
            "_model_module": "@jupyter-widgets/controls"
          }
        },
        "765c98b99d56487b9066b00f56f45d66": {
          "model_module": "@jupyter-widgets/base",
          "model_name": "LayoutModel",
          "state": {
            "_view_name": "LayoutView",
            "grid_template_rows": null,
            "right": null,
            "justify_content": null,
            "_view_module": "@jupyter-widgets/base",
            "overflow": null,
            "_model_module_version": "1.2.0",
            "_view_count": null,
            "flex_flow": null,
            "width": null,
            "min_width": null,
            "border": null,
            "align_items": null,
            "bottom": null,
            "_model_module": "@jupyter-widgets/base",
            "top": null,
            "grid_column": null,
            "overflow_y": null,
            "overflow_x": null,
            "grid_auto_flow": null,
            "grid_area": null,
            "grid_template_columns": null,
            "flex": null,
            "_model_name": "LayoutModel",
            "justify_items": null,
            "grid_row": null,
            "max_height": null,
            "align_content": null,
            "visibility": null,
            "align_self": null,
            "height": null,
            "min_height": null,
            "padding": null,
            "grid_auto_rows": null,
            "grid_gap": null,
            "max_width": null,
            "order": null,
            "_view_module_version": "1.2.0",
            "grid_template_areas": null,
            "object_position": null,
            "object_fit": null,
            "grid_auto_columns": null,
            "margin": null,
            "display": null,
            "left": null
          }
        },
        "5aba3004a1fe4cbc82b24e400efefd29": {
          "model_module": "@jupyter-widgets/controls",
          "model_name": "DescriptionStyleModel",
          "state": {
            "_view_name": "StyleView",
            "_model_name": "DescriptionStyleModel",
            "description_width": "",
            "_view_module": "@jupyter-widgets/base",
            "_model_module_version": "1.5.0",
            "_view_count": null,
            "_view_module_version": "1.2.0",
            "_model_module": "@jupyter-widgets/controls"
          }
        },
        "8fb5b6be2cd54f6dab5be84ce9f20893": {
          "model_module": "@jupyter-widgets/base",
          "model_name": "LayoutModel",
          "state": {
            "_view_name": "LayoutView",
            "grid_template_rows": null,
            "right": null,
            "justify_content": null,
            "_view_module": "@jupyter-widgets/base",
            "overflow": null,
            "_model_module_version": "1.2.0",
            "_view_count": null,
            "flex_flow": null,
            "width": null,
            "min_width": null,
            "border": null,
            "align_items": null,
            "bottom": null,
            "_model_module": "@jupyter-widgets/base",
            "top": null,
            "grid_column": null,
            "overflow_y": null,
            "overflow_x": null,
            "grid_auto_flow": null,
            "grid_area": null,
            "grid_template_columns": null,
            "flex": null,
            "_model_name": "LayoutModel",
            "justify_items": null,
            "grid_row": null,
            "max_height": null,
            "align_content": null,
            "visibility": null,
            "align_self": null,
            "height": null,
            "min_height": null,
            "padding": null,
            "grid_auto_rows": null,
            "grid_gap": null,
            "max_width": null,
            "order": null,
            "_view_module_version": "1.2.0",
            "grid_template_areas": null,
            "object_position": null,
            "object_fit": null,
            "grid_auto_columns": null,
            "margin": null,
            "display": null,
            "left": null
          }
        }
      }
    }
  },
  "cells": [
    {
      "cell_type": "markdown",
      "metadata": {
        "id": "view-in-github",
        "colab_type": "text"
      },
      "source": [
        "<a href=\"https://colab.research.google.com/github/Aisuluu1405/Test_Lesson_6_AI/blob/master/Lesson6.ipynb\" target=\"_parent\"><img src=\"https://colab.research.google.com/assets/colab-badge.svg\" alt=\"Open In Colab\"/></a>"
      ]
    },
    {
      "cell_type": "code",
      "metadata": {
        "id": "cdH9aTgZYx35",
        "colab_type": "code",
        "colab": {}
      },
      "source": [
        ""
      ],
      "execution_count": 0,
      "outputs": []
    },
    {
      "cell_type": "markdown",
      "metadata": {
        "id": "P_REgswE3WBw",
        "colab_type": "text"
      },
      "source": [
        ""
      ]
    },
    {
      "cell_type": "markdown",
      "metadata": {
        "id": "JeGBUmQSaBrn",
        "colab_type": "text"
      },
      "source": [
        "AI марафон, лекция 6\n",
        "Практика: Нейронные сети\n",
        "alt text"
      ]
    },
    {
      "cell_type": "code",
      "metadata": {
        "id": "YAUqS41XaPxN",
        "colab_type": "code",
        "colab": {}
      },
      "source": [
        "# PyTorch\n",
        "\n",
        "import torch\n",
        "import torchvision\n",
        "# import torchtext\n",
        "\n",
        "import matplotlib.pyplot as plt # для визуализации\n",
        "import numpy as np # пара базовых функций\n",
        "\n",
        "# мы хотим использовать видеокарту для вычислений\n",
        "device = torch.device('cuda') # cuda = видеокарты / cpu = процессор\n",
        "# для того, чтобы включить видеокарту Runtime -> Change runtime type -> GPU\n"
      ],
      "execution_count": 0,
      "outputs": []
    },
    {
      "cell_type": "markdown",
      "metadata": {
        "id": "ybdcEIVCbwRI",
        "colab_type": "text"
      },
      "source": [
        "Что важно знать о библиотеках\n",
        "У большинства библиотек в Python есть документация, где детально описаны функции и классы. Например, документацию NumPy вы можете найти здесь: https://numpy.org/doc/ , а документацию PyTorch здесь: https://pytorch.org/docs/stable/index.html.\n",
        "\n",
        "Эта документация очень полезна не только для понимания функций, но и для проверки параметров, которые есть у различных функций в библиотеках.\n",
        "\n",
        "Где искать ответы на практические вопросы\n",
        "https://stackoverflow.com/ - ресурс с ответами на вопросы о программировании, включая machine learning.\n",
        "\n",
        "На Kaggle вы тоже можете найти туториалы по использованию различных библиотек.\n",
        "\n"
      ]
    },
    {
      "cell_type": "markdown",
      "metadata": {
        "id": "puGZ-xOvb7RU",
        "colab_type": "text"
      },
      "source": [
        "1. Загружаем и трансформируем данные\n",
        "\n",
        "---\n",
        "\n",
        "\n",
        "["
      ]
    },
    {
      "cell_type": "code",
      "metadata": {
        "id": "rLpLxKZxb3rS",
        "colab_type": "code",
        "outputId": "3bbb47fc-c7c5-488d-cc9b-b49892ca1f32",
        "colab": {
          "base_uri": "https://localhost:8080/",
          "height": 103,
          "referenced_widgets": [
            "4eb13d0f6af344f185b8a75032162e12",
            "1d1c2c4ea6264c838e9ed41612f815fe",
            "7972b145c0dc447292146332d497c96b",
            "3447a425a8e144f785104ba930c630f9",
            "e7d8ca067cf9451c8b56f67cc01cae73",
            "765c98b99d56487b9066b00f56f45d66",
            "5aba3004a1fe4cbc82b24e400efefd29",
            "8fb5b6be2cd54f6dab5be84ce9f20893"
          ]
        }
      },
      "source": [
        "#torchvision библиотека с датасетами\n",
        "transform = torchvision.transforms.ToTensor() # трансформируем данные из изображения в вектор (или, как они называются в PyTorch, tensor), конвертирует в матрицы и пиксели\n",
        "\n",
        "# Загружаем датасет CIFAR10\n",
        "train_cifar = torchvision.datasets.CIFAR10('/', train=True, transform=transform, target_transform=None, download=True)   #target-цель не трансформируем, download=True, действительно хотим скачать датасет\n",
        "test_cifar = torchvision.datasets.CIFAR10('/', train=False, transform=transform, target_transform=None, download=True)\n"
      ],
      "execution_count": 0,
      "outputs": [
        {
          "output_type": "stream",
          "text": [
            "Downloading https://www.cs.toronto.edu/~kriz/cifar-10-python.tar.gz to /cifar-10-python.tar.gz\n"
          ],
          "name": "stdout"
        },
        {
          "output_type": "display_data",
          "data": {
            "application/vnd.jupyter.widget-view+json": {
              "model_id": "4eb13d0f6af344f185b8a75032162e12",
              "version_minor": 0,
              "version_major": 2
            },
            "text/plain": [
              "HBox(children=(FloatProgress(value=1.0, bar_style='info', max=1.0), HTML(value='')))"
            ]
          },
          "metadata": {
            "tags": []
          }
        },
        {
          "output_type": "stream",
          "text": [
            "Extracting /cifar-10-python.tar.gz to /\n",
            "Files already downloaded and verified\n"
          ],
          "name": "stdout"
        }
      ]
    },
    {
      "cell_type": "code",
      "metadata": {
        "id": "z5pe0ITVa1Jg",
        "colab_type": "code",
        "colab": {}
      },
      "source": [
        "classes = ('plane', 'car', 'bird', 'cat',\n",
        "           'deer', 'dog', 'frog', 'horse', 'ship', 'truck')\n"
      ],
      "execution_count": 0,
      "outputs": []
    },
    {
      "cell_type": "code",
      "metadata": {
        "id": "waSneABQcjSg",
        "colab_type": "code",
        "outputId": "77d5fcbd-2c3b-4aa5-c72d-7c2bbc9bb103",
        "colab": {
          "base_uri": "https://localhost:8080/",
          "height": 315
        }
      },
      "source": [
        "#визуализация нескольких примеров\n",
        "\n",
        "fig = plt.figure()\n",
        "i = 0\n",
        "for image, label in train_cifar:\n",
        "  image = torchvision.utils.make_grid(image)   #трансформирует матрицу и векторы обратно в изображения                \n",
        "  image = image.numpy()\n",
        "  image = np.transpose(image, (1, 2, 0))\n",
        "  plt.subplot(2,3,i+1)\n",
        "  plt.tight_layout()\n",
        "  plt.imshow(image)\n",
        "  plt.title(f'Класс {classes[label]}')           #цель\n",
        "  \n",
        "  i += 1\n",
        "  if i == 6:                #проходим по первым 6 изображениям\n",
        "    plt.show()  \n",
        "    print(f'Размер каждого изображения: {image.shape}')\n",
        "    break"
      ],
      "execution_count": 0,
      "outputs": [
        {
          "output_type": "display_data",
          "data": {
            "image/png": "[encoded data removed]",
            "text/plain": [
              "<Figure size 432x288 with 6 Axes>"
            ]
          },
          "metadata": {
            "tags": [],
            "needs_background": "light"
          }
        },
        {
          "output_type": "stream",
          "text": [
            "Размер каждого изображения: (32, 32, 3)\n"
          ],
          "name": "stdout"
        }
      ]
    },
    {
      "cell_type": "code",
      "metadata": {
        "id": "QWQuxcKucnph",
        "colab_type": "code",
        "colab": {}
      },
      "source": [
        "# назначаем размер наших batch для тренировки и тестирования модели\n",
        "batch_size_train = 50              # берет по 50 и тренирует\n",
        "batch_size_test = 500\n",
        "\n",
        "# при итерации через train_loader мы получаем batches размером в 50  в одном куске 50 изображений\n",
        "train_loader = torch.utils.data.DataLoader(train_cifar,\n",
        "  batch_size=batch_size_train, shuffle=True) # параметр шафл перемешивает изображения при создании batches, используется в тренировочных данных\n",
        "\n",
        "# при итерации через test_loader мы получаем batches размером в 500\n",
        "test_loader = torch.utils.data.DataLoader(test_cifar,              # когда будем итерировать будут возращаться batches\n",
        "  batch_size=batch_size_test, shuffle=False)                      #shuffle=False - не перемешивать\n"
      ],
      "execution_count": 0,
      "outputs": []
    },
    {
      "cell_type": "code",
      "metadata": {
        "id": "SKs6RzNk9Tvn",
        "colab_type": "code",
        "outputId": "575177d2-2a9e-42be-890c-af31a0c49908",
        "colab": {
          "base_uri": "https://localhost:8080/",
          "height": 53
        }
      },
      "source": [
        "print(f'Изображений в тренировочных данных: {len(train_loader) * batch_size_train}')\n",
        "print(f'Изображений в тестируемых данных: {len(test_loader) * batch_size_test}')"
      ],
      "execution_count": 0,
      "outputs": [
        {
          "output_type": "stream",
          "text": [
            "Изображений в тренировочных данных: 50000\n",
            "Изображений в тестируемых данных: 10000\n"
          ],
          "name": "stdout"
        }
      ]
    },
    {
      "cell_type": "markdown",
      "metadata": {
        "id": "Stv3BeXX9W9r",
        "colab_type": "text"
      },
      "source": [
        "2. Создаем и тренируем логистическую модель через PyTorch"
      ]
    },
    {
      "cell_type": "code",
      "metadata": {
        "id": "9AAiqk5_9U8r",
        "colab_type": "code",
        "colab": {}
      },
      "source": [
        "# импортируем отдельные функции из библиотеки PyTorch, для краткости\n",
        "import torch.nn as nn\n",
        "import torch.nn.functional as F\n",
        "import torch.optim as optim\n",
        "\n",
        "# Создаем нашу модель в PyTorch\n",
        "class LogisticRegression(nn.Module): # говорим питону что наш class LogisticRegression это пример модуля nn.Module, дает доступ к функциям pytorch\n",
        "\n",
        "  # инициализируем нашу модель\n",
        "  def __init__(self, input_dim, output_dim):\n",
        "    super(LogisticRegression, self).__init__()\n",
        "    # nn.Linear создает связи (с параметрами, первый-сколько нейронов во входном слое, второй-сколько нейронов на последнем  слое) между двумя слоями сети\n",
        "    self.regression = nn.Linear(in_features=input_dim,              #используем функцию \n",
        "                                out_features=output_dim)\n",
        "  # эта функция совершает один прогноз для наших входных данных X\n",
        "  def forward(self, x): # x наши входные данные\n",
        "    # не берет Y цель как один из параметров\n",
        "\n",
        "    predictions = self.regression(x)\n",
        "    return predictions # возвращаем наши прогнозы"
      ],
      "execution_count": 0,
      "outputs": []
    },
    {
      "cell_type": "code",
      "metadata": {
        "id": "gBr9Bkmd9ks-",
        "colab_type": "code",
        "colab": {}
      },
      "source": [
        "\n",
        "logreg = LogisticRegression(input_dim=32 * 32 * 3, # входной слой нашей регрессии 32*32*3 переменных (или нейронов) \n",
        "                            output_dim=10 # слой на выходе размером 10 (10 классов объектов в датасете)\n",
        "                            ).to(device) # отправляет нашу модель в видеокарту"
      ],
      "execution_count": 0,
      "outputs": []
    },
    {
      "cell_type": "code",
      "metadata": {
        "id": "eFu4_fStk-nV",
        "colab_type": "code",
        "outputId": "213e1fc1-cb28-4aba-e308-784f867fd3b6",
        "colab": {
          "base_uri": "https://localhost:8080/",
          "height": 53
        }
      },
      "source": [
        "print(f'Число параметров в логистической регресии: {sum(p.numel() for p in logreg.parameters())}')\n",
        "print(32*32*3*10+10)      # +10 параметров B zero(B0)\n"
      ],
      "execution_count": 0,
      "outputs": [
        {
          "output_type": "stream",
          "text": [
            "Число параметров в логистической регресии: 30730\n",
            "30730\n"
          ],
          "name": "stdout"
        }
      ]
    },
    {
      "cell_type": "markdown",
      "metadata": {
        "id": "7owxURLJ9qXP",
        "colab_type": "text"
      },
      "source": [
        "Вопрос: Какие 4 компонента нужны были для тренировки модели для прогнозирования?\n",
        "\n",
        "1.Данные (входные и цели) train_loader, test_loader\n",
        "2.Модель logreg\n",
        "3.Функция потерь или loss function\n",
        "4.Метод оптимизации (градиентное обучение)"
      ]
    },
    {
      "cell_type": "code",
      "metadata": {
        "id": "pRDcUJsp9r1p",
        "colab_type": "code",
        "colab": {}
      },
      "source": [
        "# создаем функцию потерь\n",
        "# при классификации, функция потерь CrossEntropyLoss\n",
        "# бинарной классификации, функция потерь BCELoss\n",
        "loss_function = nn.CrossEntropyLoss().to(device) # отправили в видеокарту\n",
        "\n",
        "# создаем метод оптимизации\n",
        "# SGD = stochastic gradient descent, метода градиентного обучения\n",
        "# связываем между собой метод оптимизации и модель\n",
        "# lr = learning rate, который определяет величину шага при градиентном обучении\n",
        "# learning rate это гиперпараметер, в большинстве learning rate относительно маленький, не хотим быстро двигаться, чтобы хаотичности не было(в начале лучше больший, в конце маленький лучше)\n",
        "optimizer = optim.SGD(logreg.parameters(), lr=0.001)    #обозначая параметры, связываем модель и метод оптимизации"
      ],
      "execution_count": 0,
      "outputs": []
    },
    {
      "cell_type": "code",
      "metadata": {
        "id": "c-f17iJ19v2J",
        "colab_type": "code",
        "colab": {}
      },
      "source": [
        "# создаем функцию которая тренирует нашу модель в течение одной эпохи\n",
        "# эпоха - прохождение через все batches в наших тренируемых данных один раз\n",
        "# тренировка в течение 5 эпох -- наша модель увидит каждое изображение в данных как минимум 5 раз\n",
        "\n",
        "def train_epoch(model, loader, epoch, flatten=True):  #берет как параметры саму модель, какие данные_loader, номер эпохи, flatten-техническая деталь\n",
        "\n",
        "  # в них хранятся значения нашей потери и точности\n",
        "  epoch_loss = 0\n",
        "  epoch_accuracy = 0\n",
        "\n",
        "  # в этом for loop мы проходим через все 1000 batches в наших трен. данных\n",
        "  for i, batch in enumerate(loader):\n",
        "    \n",
        "    images, labels = batch # images = X, labels = Y разбили на два компонента\n",
        "    if flatten:\n",
        "      images = images.reshape((batch_size_train, -1)) # сжимает нашу матрицу, меняет порядок колонок в матрице\n",
        "\n",
        "    # optimizer = метод оптимизации\n",
        "    # zero_grad() после каждого batch стирает буфер информации с прошлого batch\n",
        "    optimizer.zero_grad()           \n",
        "\n",
        "    # model.forward() совершает forward pass  не делаем обучения, а только пропускает данные и выдает цель  \n",
        "    # images = X, output = Y_hat       \n",
        "    output = model.forward(images.to(device)) # отправляем данные в видеокарту, вектор, вероятность, что изображена кошка\n",
        "    \n",
        "    # посчитать потерю между нашим прогнозом output и настоящей целью labels\n",
        "    loss = loss_function(output, labels.to(device)) # отправляем данные в видеокарту\n",
        "\n",
        "    if i == 0 and epoch == 0:\n",
        "      print(f'Размер изображений в batch: {images.shape}')\n",
        "      print(f'Размер целей в batch: {labels.shape}')\n",
        "      print(f'Размер прогнозов в batch: {output.shape}')\n",
        "    elif i == len(train_loader) - 1:\n",
        "      print(f'Эпоха {epoch+1}. Обработал {i * batch_size_train} изображений.')\n",
        "      print(f'Потеря: {epoch_loss / (i + 1)}, точность: {epoch_accuracy / (i + 1)}')\n",
        "    \n",
        "    # backward pass = обновление параметров нашей модели, в завимости от ошибок, которые она допустили\n",
        "    # наши ошибки хранятся в значении функции потерь \n",
        "    loss.backward() # высчитывает градиент для обновления параметров раьотаем в тандеме с optimizer.step()\n",
        "    optimizer.step() # обновляет сами параметры внутри модели, используя градиенты из прошлой строки\n",
        "\n",
        "    epoch_loss += loss.item() # добавляем свою потерю\n",
        "\n",
        "    predictions = output.argmax(dim=-1) # команда argmax находит позицию максимального значению внутри нашего вектора, найи позицию, а не само изображение\n",
        "    # в python индекс -1 обозначает последний индекс\n",
        "\n",
        "    correct_predictions = int(sum(predictions == labels.to(device)))           #сравни два значения, вектор 50, а если были правильные предсказания 40, то 40/50(40 делим на 50)\n",
        "    accuracy = correct_predictions / batch_size_train\n",
        "    epoch_accuracy += accuracy\n",
        "\n",
        "  return epoch_loss, epoch_accuracy\n"
      ],
      "execution_count": 0,
      "outputs": []
    },
    {
      "cell_type": "markdown",
      "metadata": {
        "id": "lqqktGII96Nv",
        "colab_type": "text"
      },
      "source": [
        "Любую модель в PyTorch можно натренировать по следующим шагам.\n",
        "\n",
        "Взять один batch данных (X, Y)\n",
        "\n",
        "Очистить буфер метода оптимизации optimizer (в буфере находятся градиенты с прошлого batch)\n",
        "\n",
        "Совершить один forward pass (создание прогнозов на основе входных данных X)\n",
        "\n",
        "Высчитываем функцию потерь между нашими прогнозами (Y_hat) и настоящими целями (Y)\n",
        "\n",
        "Совершаем один backward pass (высчитываем градиенты для обновления параметров)\n",
        "\n",
        "Используем optimizer.step() для обновления самих параметров внутри модели\n",
        "\n",
        "Высчитываем точность наших прогнозов на этом batch\n",
        "\n",
        "Шаги 1-7 повторяем для всех batches в тренируемых данных\n",
        "\n",
        "Шаг 8 повторяем N раз, где N = максимальное количество эпох (гиперпараметер)"
      ]
    },
    {
      "cell_type": "code",
      "metadata": {
        "id": "zfTKUgpo97eD",
        "colab_type": "code",
        "colab": {}
      },
      "source": [
        "losses = []\n",
        "accuracies = []\n",
        "num_epochs = 5\n",
        "\n",
        "for epoch in range(num_epochs):                  #тренируем 5 раз, так как указали 5 эпох\n",
        "  epoch_loss, epoch_accuracy = train_epoch(logreg, train_loader, epoch)        #\n",
        "  losses.append(epoch_loss / len(train_loader))\n",
        "  accuracies.append(epoch_accuracy / len(train_loader))"
      ],
      "execution_count": 0,
      "outputs": []
    },
    {
      "cell_type": "code",
      "metadata": {
        "id": "SXpynJau-OOU",
        "colab_type": "code",
        "colab": {}
      },
      "source": [
        "plt.plot(losses)\n",
        "plt.legend(['train'])\n",
        "plt.title('losses')\n",
        "plt.show()\n",
        "\n",
        "plt.plot(accuracies)\n",
        "plt.legend(['train'])\n",
        "plt.title('accuracy')\n",
        "plt.show()\n"
      ],
      "execution_count": 0,
      "outputs": []
    },
    {
      "cell_type": "code",
      "metadata": {
        "id": "mE5ZVgYw-TWt",
        "colab_type": "code",
        "colab": {}
      },
      "source": [
        "# тестирует нашу модель на всех тестируемых данных\n",
        "# в этой функции нет никакого обучения\n",
        "# много forward passes\n",
        "# записываем loss и accuracy\n",
        "def test_epoch(model, loader, flatten=True):\n",
        "  epoch_loss = 0\n",
        "  epoch_accuracy = 0\n",
        "  for i, batch in enumerate(loader):\n",
        "    images, labels = batch\n",
        "    if flatten:\n",
        "      images = images.reshape((batch_size_test, -1))\n",
        "    output = model.forward(images.to(device))\n",
        "    loss = loss_function(output, labels.to(device))\n",
        "\n",
        "    epoch_loss += loss.item()\n",
        "\n",
        "    predictions = output.argmax(dim=-1)\n",
        "    correct_predictions = int(sum(predictions == labels.to(device)))\n",
        "    accuracy = correct_predictions / batch_size_test\n",
        "    epoch_accuracy += accuracy\n",
        "  return epoch_loss, epoch_accuracy"
      ],
      "execution_count": 0,
      "outputs": []
    },
    {
      "cell_type": "code",
      "metadata": {
        "id": "XY03L_PJ-YnO",
        "colab_type": "code",
        "colab": {}
      },
      "source": [
        "logreg = LogisticRegression(input_dim=32 * 32 * 3, output_dim=10).to(device)\n",
        "loss_function = nn.CrossEntropyLoss()\n",
        "optimizer = optim.SGD(logreg.parameters(), lr=0.001)\n",
        "\n",
        "test_losses = []\n",
        "test_accuracies = []\n",
        "\n",
        "train_losses = []\n",
        "train_accuracies = []\n",
        "num_epochs = 20\n",
        "\n",
        "for epoch in range(num_epochs):\n",
        "  train_loss, train_accuracy = train_epoch(logreg, train_loader, epoch)\n",
        "  train_losses.append(train_loss / len(train_loader))\n",
        "  train_accuracies.append(train_accuracy / len(train_loader))\n",
        "  with logreg.eval() and torch.no_grad():\n",
        "    test_loss, test_accuracy = test_epoch(logreg, test_loader)\n",
        "    test_losses.append(test_loss / len(test_loader))\n",
        "    test_accuracies.append(test_accuracy / len(test_loader))\n"
      ],
      "execution_count": 0,
      "outputs": []
    },
    {
      "cell_type": "code",
      "metadata": {
        "id": "gqZFZKI1-dIS",
        "colab_type": "code",
        "colab": {}
      },
      "source": [
        "# функция которая визуализирует потери и точность по истечении эпох\n",
        "# ось X = какая эпоха\n",
        "# ось Y = значение потери / точности на данной эпохе\n",
        "\n",
        "def plot_training(train_losses, test_losses, train_accuracies, test_accuracies):\n",
        "  plt.plot(train_losses)\n",
        "  plt.plot(test_losses)\n",
        "  plt.legend(['train', 'test'])\n",
        "  plt.title('losses')\n",
        "  plt.show()\n",
        "\n",
        "  plt.plot(train_accuracies)\n",
        "  plt.plot(test_accuracies)\n",
        "  plt.legend(['train', 'test'])\n",
        "  plt.title('accuracy')\n",
        "  plt.show()\n",
        "\n",
        "plot_training(train_losses, test_losses, train_accuracies, test_accuracies)"
      ],
      "execution_count": 0,
      "outputs": []
    },
    {
      "cell_type": "markdown",
      "metadata": {
        "id": "gx4CJLEE-gxY",
        "colab_type": "text"
      },
      "source": [
        "3. Создаем и тренируем глубокую нейросеть"
      ]
    },
    {
      "cell_type": "code",
      "metadata": {
        "id": "wNOLR00c-eA9",
        "colab_type": "code",
        "colab": {}
      },
      "source": [
        "# создаем нейронную сеть\n",
        "class DeepNeuralNetwork(nn.Module):\n",
        "  def __init__(self, input_dim, output_dim, hidden_dims):\n",
        "    # input_dim = размер первого слоя (32 * 32 * 3)\n",
        "    # output_dim = размер последного слоя (10)\n",
        "    # hidden_dims = лист с размерами промежуточных слоев\n",
        "    # 300, 150, 50 = три слоя\n",
        "    super(DeepNeuralNetwork, self).__init__()\n",
        "\n",
        "    # первый слой - это входные данные, размер 3072 = 32 * 32 * 3\n",
        "    # второй слой - это промежуточный слой\n",
        "    # размер второго слоя - это гиперпараметер\n",
        "    self.input_to_hidden_layer = nn.Linear(input_dim, hidden_dims[0])\n",
        "\n",
        "    # добавляем нелинейность (нет параметров)\n",
        "    self.first_nonlinearity = nn.ReLU()\n",
        "\n",
        "    # создаем пустой список для дальнейших промежуточных слоев\n",
        "    self.hidden_layers = nn.ModuleList()\n",
        "\n",
        "    # добавляем промежуточные слои к нашей модели\n",
        "    for i in range(len(hidden_dims) - 1):\n",
        "      # каждый nn.Linear и есть слой внутри нейросети\n",
        "      self.hidden_layers.append(nn.Linear(hidden_dims[i], hidden_dims[i+1]))\n",
        "      # добавляем нелинейность (нет параметров)\n",
        "      self.hidden_layers.append(nn.ReLU())  \n",
        "    \n",
        "    # self.hidden_layers.append(nn.Linear(hidden_dims[0], hidden_dims[1]))\n",
        "    # self.hidden_layers.append(nn.Linear(hidden_dims[1], hidden_dims[2]))\n",
        "\n",
        "    # добавляем связи между последним промежуточным слоем и последним слоем нейросети (классы)\n",
        "    self.hidden_to_output_layer = nn.Linear(hidden_dims[-1], output_dim)\n",
        "\n",
        "  # функция которая создает прогноз на основе входных данных\n",
        "  def forward(self, x):\n",
        "\n",
        "    after_first_layer = self.input_to_hidden_layer(x)\n",
        "\n",
        "    hidden_input = self.first_nonlinearity(after_first_layer)\n",
        "\n",
        "    for hidden_layer in self.hidden_layers:\n",
        "      hidden_input = hidden_layer(hidden_input)\n",
        "\n",
        "    predictions = self.hidden_to_output_layer(hidden_input)\n",
        "    return predictions"
      ],
      "execution_count": 0,
      "outputs": []
    },
    {
      "cell_type": "code",
      "metadata": {
        "id": "MVXxWTac-tKq",
        "colab_type": "code",
        "colab": {}
      },
      "source": [
        "deepnn = DeepNeuralNetwork(input_dim=32 * 32 * 3, \n",
        "                           output_dim=10, \n",
        "                           hidden_dims=[300, 150, 50]).to(device) # размер и число промежуточных слоев это гиперпараметер\n",
        "\n",
        "loss_function = nn.CrossEntropyLoss()\n",
        "optimizer = optim.SGD(deepnn.parameters(), lr=0.001) # параметер optimizer это deepnn, а не logreg\n",
        "print(sum(p.numel() for p in deepnn.parameters()))\n",
        "\n",
        "\n",
        "test_losses = []\n",
        "test_accuracies = []\n",
        "\n",
        "train_losses = []\n",
        "train_accuracies = []\n",
        "num_epochs = 20\n",
        "\n",
        "for epoch in range(num_epochs):\n",
        "  train_loss, train_accuracy = train_epoch(deepnn, train_loader, epoch)\n",
        "  train_losses.append(train_loss / len(train_loader))\n",
        "  train_accuracies.append(train_accuracy / len(train_loader))\n",
        "  with deepnn.eval() and torch.no_grad():\n",
        "    test_loss, test_accuracy = test_epoch(deepnn, test_loader)\n",
        "    test_losses.append(test_loss / len(test_loader))\n",
        "    test_accuracies.append(test_accuracy / len(test_loader))"
      ],
      "execution_count": 0,
      "outputs": []
    },
    {
      "cell_type": "code",
      "metadata": {
        "id": "ToZeT4VT-yiH",
        "colab_type": "code",
        "colab": {}
      },
      "source": [
        "plot_training(train_losses, test_losses, train_accuracies, test_accuracies)"
      ],
      "execution_count": 0,
      "outputs": []
    },
    {
      "cell_type": "code",
      "metadata": {
        "id": "q5NcfbIw_WZZ",
        "colab_type": "code",
        "colab": {}
      },
      "source": [
        "300 * 150"
      ],
      "execution_count": 0,
      "outputs": []
    },
    {
      "cell_type": "markdown",
      "metadata": {
        "id": "FjU7z1N4-5ur",
        "colab_type": "text"
      },
      "source": [
        "3. Создаем и тренируем конволюционную нейросеть"
      ]
    },
    {
      "cell_type": "code",
      "metadata": {
        "id": "Q2S9JJrw-6wT",
        "colab_type": "code",
        "colab": {}
      },
      "source": [
        "class ConvolutionalNeuralNetwork(nn.Module):\n",
        "  def __init__(self):\n",
        "    super(ConvolutionalNeuralNetwork, self).__init__()\n",
        "    # вместо промежуточных слоев nn.Linear используем конволюционные nn.Conv2d\n",
        "    self.convolution_1 = nn.Conv2d(in_channels=3, # 1 или 3, изображение цветное или монохромное\n",
        "                                   out_channels=6, # увеличиваем число каналов для компенсации меньшего размера изображения\n",
        "                                   kernel_size=5, # размер нашего фильтра \n",
        "                                   stride=1, # размере шага при движении фильтра\n",
        "                                   padding=0 # что делать на краях изображения\n",
        "                                   )\n",
        "    self.non_linearity = nn.ReLU()\n",
        "    self.pool = nn.MaxPool2d(kernel_size=2, stride=2) # операция для уменьшения размера изображения, у MaxPool нет параметров\n",
        "    self.convolution_2 = nn.Conv2d(in_channels=6, \n",
        "                                   out_channels=16, \n",
        "                                   kernel_size=5)\n",
        "    self.fc_1 = nn.Linear(16 * 5 * 5, 120) # 16 * 5 * 5  < 32 * 32 * 3 более компактная репрезентация\n",
        "    self.fc_2 = nn.Linear(120, 84) # предпоследний промежуточный слой размером в 120\n",
        "    self.fc_3 = nn.Linear(84, 10) # последний промежуточный слой размером в 84\n",
        "    # последний слой размером в 10\n",
        "\n",
        "  def forward(self, x):\n",
        "    # print(x.shape)\n",
        "    after_convolution_1 = self.non_linearity(self.convolution_1(x))\n",
        "    # print(after_convolution_1.shape)\n",
        "    after_pool_1 = self.pool(after_convolution_1)\n",
        "    # print(after_pool_1.shape)\n",
        "    after_convolution_2 = self.non_linearity(self.convolution_2(after_pool_1))\n",
        "    # print(after_convolution_2.shape)\n",
        "    after_pool_2 = self.pool(after_convolution_2)\n",
        "    # print(after_pool_2.shape)\n",
        "\n",
        "    flat_input = after_pool_2.view(-1, 16 * 5 * 5)\n",
        "    after_fc_1 = self.non_linearity(self.fc_1(flat_input))\n",
        "    after_fc_2 = self.non_linearity(self.fc_2(after_fc_1))\n",
        "    predictions = self.fc_3(after_fc_2)\n",
        "    \n",
        "    return predictions"
      ],
      "execution_count": 0,
      "outputs": []
    },
    {
      "cell_type": "code",
      "metadata": {
        "id": "OZlOwgc9_FlX",
        "colab_type": "code",
        "colab": {}
      },
      "source": [
        "32 * 32 * 3"
      ],
      "execution_count": 0,
      "outputs": []
    },
    {
      "cell_type": "code",
      "metadata": {
        "id": "_zare7nK_I83",
        "colab_type": "code",
        "colab": {}
      },
      "source": [
        "cnn = ConvolutionalNeuralNetwork().to(device)\n",
        "loss_function = nn.CrossEntropyLoss()\n",
        "optimizer = optim.SGD(cnn.parameters(), lr=0.005)\n",
        "print(sum(p.numel() for p in cnn.parameters()))\n",
        "\n",
        "\n",
        "test_losses = []\n",
        "test_accuracies = []\n",
        "\n",
        "train_losses = []\n",
        "train_accuracies = []\n",
        "num_epochs = 20\n",
        "\n",
        "for epoch in range(num_epochs):\n",
        "  train_loss, train_accuracy = train_epoch(cnn, train_loader, epoch, flatten=False)\n",
        "  train_losses.append(train_loss / len(train_loader))\n",
        "  train_accuracies.append(train_accuracy / len(train_loader))\n",
        "  with deepnn.eval() and torch.no_grad():\n",
        "    test_loss, test_accuracy = test_epoch(cnn, test_loader, flatten=False)\n",
        "    test_losses.append(test_loss / len(test_loader))\n",
        "    test_accuracies.append(test_accuracy / len(test_loader))"
      ],
      "execution_count": 0,
      "outputs": []
    },
    {
      "cell_type": "code",
      "metadata": {
        "id": "Oid4h1do_O7A",
        "colab_type": "code",
        "colab": {}
      },
      "source": [
        "plot_training(train_losses, test_losses, train_accuracies, test_accuracies)"
      ],
      "execution_count": 0,
      "outputs": []
    },
    {
      "cell_type": "code",
      "metadata": {
        "id": "0VlWVFoP90_L",
        "colab_type": "code",
        "colab": {}
      },
      "source": [
        ""
      ],
      "execution_count": 0,
      "outputs": []
    }
  ]
}